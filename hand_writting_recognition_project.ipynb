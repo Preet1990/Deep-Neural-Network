{
  "nbformat": 4,
  "nbformat_minor": 0,
  "metadata": {
    "colab": {
      "name": "hand_writting_recognition_project.ipynb",
      "provenance": [],
      "authorship_tag": "ABX9TyPGxionxA1zBO0Z79PQpBzP",
      "include_colab_link": true
    },
    "kernelspec": {
      "name": "python3",
      "display_name": "Python 3"
    },
    "language_info": {
      "name": "python"
    }
  },
  "cells": [
    {
      "cell_type": "markdown",
      "metadata": {
        "id": "view-in-github",
        "colab_type": "text"
      },
      "source": [
        "<a href=\"https://colab.research.google.com/github/Preet1990/Deep-Neural-Network/blob/main/hand_writting_recognition_project.ipynb\" target=\"_parent\"><img src=\"https://colab.research.google.com/assets/colab-badge.svg\" alt=\"Open In Colab\"/></a>"
      ]
    },
    {
      "cell_type": "code",
      "source": [
        "import tensorflow as tf\n",
        "from keras.preprocessing.image import ImageDataGenerator\n",
        "\n",
        "\n"
      ],
      "metadata": {
        "id": "LrH2dEkUhsuC"
      },
      "execution_count": 115,
      "outputs": []
    },
    {
      "cell_type": "code",
      "source": [
        "tf.__version__"
      ],
      "metadata": {
        "colab": {
          "base_uri": "https://localhost:8080/",
          "height": 36
        },
        "id": "1RnFuPE-hyFO",
        "outputId": "8bf5207d-865d-4c7a-cf1e-9cce582b0562"
      },
      "execution_count": 116,
      "outputs": [
        {
          "output_type": "execute_result",
          "data": {
            "text/plain": [
              "'2.8.2'"
            ],
            "application/vnd.google.colaboratory.intrinsic+json": {
              "type": "string"
            }
          },
          "metadata": {},
          "execution_count": 116
        }
      ]
    },
    {
      "cell_type": "code",
      "source": [
        "import tensorflow as tf\n",
        "import matplotlib.pyplot as plt\n",
        "import numpy as np\n",
        "tf.test.gpu_device_name()"
      ],
      "metadata": {
        "colab": {
          "base_uri": "https://localhost:8080/",
          "height": 36
        },
        "id": "lb6O2Q_0h0Vr",
        "outputId": "dd59281e-4b89-40b2-abff-165def136e6e"
      },
      "execution_count": 117,
      "outputs": [
        {
          "output_type": "execute_result",
          "data": {
            "text/plain": [
              "''"
            ],
            "application/vnd.google.colaboratory.intrinsic+json": {
              "type": "string"
            }
          },
          "metadata": {},
          "execution_count": 117
        }
      ]
    },
    {
      "cell_type": "markdown",
      "source": [
        "# load in the dataset using Keras"
      ],
      "metadata": {
        "id": "iMwN7dR-kdQb"
      }
    },
    {
      "cell_type": "code",
      "execution_count": 118,
      "metadata": {
        "colab": {
          "base_uri": "https://localhost:8080/"
        },
        "id": "jCAY6ZY4gcAZ",
        "outputId": "27809b9d-2a26-49aa-f6b6-2d9666331a9b"
      },
      "outputs": [
        {
          "output_type": "stream",
          "name": "stdout",
          "text": [
            "Train: X = (60000, 28, 28), y = (60000,)\n",
            "Test: X = (10000, 28, 28), y = (10000,)\n"
          ]
        }
      ],
      "source": [
        "from keras.datasets import mnist \n",
        "\n",
        "(trainsetX, trainsety),(testsetX,testsety) = mnist.load_data()\n",
        "\n",
        "print('Train: X = {}, y = {}'.format(trainsetX.shape, trainsety.shape)) \n",
        "print('Test: X = {}, y = {}'.format(testsetX.shape, testsety.shape))"
      ]
    },
    {
      "cell_type": "markdown",
      "source": [
        "# Section I.II : Initial EDA"
      ],
      "metadata": {
        "id": "xKlUvpKNlLmL"
      }
    },
    {
      "cell_type": "code",
      "source": [
        "# Create graphs of the counts of each class\n",
        "\n",
        "def plot_img(i):\n",
        "  plt.subplot(int('23'+str(i+1)))\n",
        "  plt.imshow(trainsetX[i])\n",
        "\n",
        "  print('Lable :', trainsety[i])\n",
        "  plt.show()"
      ],
      "metadata": {
        "id": "sZad-455Opwd"
      },
      "execution_count": 119,
      "outputs": []
    },
    {
      "cell_type": "code",
      "source": [
        "for i in range(3):\n",
        "  plot_img(i)"
      ],
      "metadata": {
        "colab": {
          "base_uri": "https://localhost:8080/",
          "height": 468
        },
        "id": "soNJqcLvPSnO",
        "outputId": "101d5e6a-33f2-4c84-d939-95dc23d9f25f"
      },
      "execution_count": 120,
      "outputs": [
        {
          "output_type": "stream",
          "name": "stdout",
          "text": [
            "Lable : 5\n"
          ]
        },
        {
          "output_type": "display_data",
          "data": {
            "text/plain": [
              "<Figure size 432x288 with 1 Axes>"
            ],
            "image/png": "[encoded data removed]"
          },
          "metadata": {
            "needs_background": "light"
          }
        },
        {
          "output_type": "stream",
          "name": "stdout",
          "text": [
            "Lable : 0\n"
          ]
        },
        {
          "output_type": "display_data",
          "data": {
            "text/plain": [
              "<Figure size 432x288 with 1 Axes>"
            ],
            "image/png": "[encoded data removed]"
          },
          "metadata": {
            "needs_background": "light"
          }
        },
        {
          "output_type": "stream",
          "name": "stdout",
          "text": [
            "Lable : 4\n"
          ]
        },
        {
          "output_type": "display_data",
          "data": {
            "text/plain": [
              "<Figure size 432x288 with 1 Axes>"
            ],
            "image/png": "[encoded data removed]"
          },
          "metadata": {
            "needs_background": "light"
          }
        }
      ]
    },
    {
      "cell_type": "code",
      "source": [
        "# Check unique values\n",
        "\n",
        "np.unique(trainsety,return_counts=True)"
      ],
      "metadata": {
        "colab": {
          "base_uri": "https://localhost:8080/"
        },
        "id": "lxZzLg8VQBx7",
        "outputId": "ff6b7b17-13c5-4940-fc98-e4d9acff18a5"
      },
      "execution_count": 121,
      "outputs": [
        {
          "output_type": "execute_result",
          "data": {
            "text/plain": [
              "(array([0, 1, 2, 3, 4, 5, 6, 7, 8, 9], dtype=uint8),\n",
              " array([5923, 6742, 5958, 6131, 5842, 5421, 5918, 6265, 5851, 5949]))"
            ]
          },
          "metadata": {},
          "execution_count": 121
        }
      ]
    },
    {
      "cell_type": "markdown",
      "source": [
        "# Section II : Data Preparation"
      ],
      "metadata": {
        "id": "PJOeccmdlswt"
      }
    },
    {
      "cell_type": "code",
      "source": [
        "# Normalize the pixel value of the all images\n",
        "\n",
        "trainsetX = trainsetX.astype(np.float32)/255\n",
        "testsetX = testsetX.astype(np.float32)/255"
      ],
      "metadata": {
        "id": "MnhiBrQ5SM1B"
      },
      "execution_count": 122,
      "outputs": []
    },
    {
      "cell_type": "markdown",
      "source": [
        "# Why is scaling of the pixel value required ? Make a note\n",
        "\n",
        "Note:- because these days all content needs to be scaled to native resolution before being rendered on screen.\n",
        "\n",
        "**Pixel Scaling** refers to the process of scaling or adapting content that has been designed for a certain resolution to a higher resolution. \n",
        "\n",
        "# Explain the difference between pre-processed images and the normalized images\n",
        "\n",
        "- **pre-processing** is to improve the quality of the image so that we can analyse it in a better way. By preprocessing we can suppress undesired distortions and enhance some features which are necessary for the particular application we are working for.\n",
        "\n",
        "- **normalization** is a process that changes the range of pixel intensity values.It performing contrast adjustments to the image so that the intensity values of the image span the entire intensity range."
      ],
      "metadata": {
        "id": "VO7EqADJl1PF"
      }
    },
    {
      "cell_type": "code",
      "source": [
        "trainsetX.shape"
      ],
      "metadata": {
        "colab": {
          "base_uri": "https://localhost:8080/"
        },
        "id": "xmX2P_TBS1HD",
        "outputId": "2505f2c2-510e-4cd7-b3d7-ff08138494e2"
      },
      "execution_count": 123,
      "outputs": [
        {
          "output_type": "execute_result",
          "data": {
            "text/plain": [
              "(60000, 28, 28)"
            ]
          },
          "metadata": {},
          "execution_count": 123
        }
      ]
    },
    {
      "cell_type": "code",
      "source": [
        "# input Shape and create Layers\n",
        "\n",
        "cnn = tf.keras.models.Sequential([tf.keras.layers.Flatten(input_shape=(28,28)),\n",
        "                                 tf.keras.layers.Dense(128,activation = 'relu'),\n",
        "                                 tf.keras.layers.Dense(60, activation=tf.nn.softmax)])"
      ],
      "metadata": {
        "id": "DtBguXarhQxh"
      },
      "execution_count": 130,
      "outputs": []
    },
    {
      "cell_type": "code",
      "source": [
        "# cnn.add(tf.keras.layers.Dense(36, activation='sigmoid'))"
      ],
      "metadata": {
        "id": "DrOMvBxdiuWZ"
      },
      "execution_count": 126,
      "outputs": []
    },
    {
      "cell_type": "code",
      "source": [
        "# check parametres\n",
        "\n",
        "cnn.summary()"
      ],
      "metadata": {
        "colab": {
          "base_uri": "https://localhost:8080/"
        },
        "id": "sZ2jJc6givXm",
        "outputId": "9a1dea4a-2cf5-4332-d7b4-d7490eea96fe"
      },
      "execution_count": 131,
      "outputs": [
        {
          "output_type": "stream",
          "name": "stdout",
          "text": [
            "Model: \"sequential_7\"\n",
            "_________________________________________________________________\n",
            " Layer (type)                Output Shape              Param #   \n",
            "=================================================================\n",
            " flatten_7 (Flatten)         (None, 784)               0         \n",
            "                                                                 \n",
            " dense_14 (Dense)            (None, 128)               100480    \n",
            "                                                                 \n",
            " dense_15 (Dense)            (None, 60)                7740      \n",
            "                                                                 \n",
            "=================================================================\n",
            "Total params: 108,220\n",
            "Trainable params: 108,220\n",
            "Non-trainable params: 0\n",
            "_________________________________________________________________\n"
          ]
        }
      ]
    },
    {
      "cell_type": "code",
      "source": [
        "# Get the loss and validation loss of the model and also the accuracy and the validation accuracy\n",
        "\n",
        "cnn.compile(optimizer =tf.keras.optimizers.Adam(), loss = 'sparse_categorical_crossentropy', metrics = ['accuracy'])"
      ],
      "metadata": {
        "id": "1Pvf4vW9ixcM"
      },
      "execution_count": 132,
      "outputs": []
    },
    {
      "cell_type": "code",
      "source": [
        "#Traning the model\n",
        "\n",
        "cnn.fit(trainsetX,trainsety,epochs=25,validation_split=0.3)"
      ],
      "metadata": {
        "colab": {
          "base_uri": "https://localhost:8080/"
        },
        "id": "bhERwE5eRvxy",
        "outputId": "af8f9da4-5bad-45d3-eca3-f208752c2f7b"
      },
      "execution_count": 133,
      "outputs": [
        {
          "output_type": "stream",
          "name": "stdout",
          "text": [
            "Epoch 1/25\n",
            "1313/1313 [==============================] - 3s 2ms/step - loss: 0.3437 - accuracy: 0.9062 - val_loss: 0.1969 - val_accuracy: 0.9428\n",
            "Epoch 2/25\n",
            "1313/1313 [==============================] - 3s 2ms/step - loss: 0.1469 - accuracy: 0.9569 - val_loss: 0.1402 - val_accuracy: 0.9594\n",
            "Epoch 3/25\n",
            "1313/1313 [==============================] - 3s 2ms/step - loss: 0.1022 - accuracy: 0.9694 - val_loss: 0.1224 - val_accuracy: 0.9628\n",
            "Epoch 4/25\n",
            "1313/1313 [==============================] - 3s 2ms/step - loss: 0.0769 - accuracy: 0.9768 - val_loss: 0.1045 - val_accuracy: 0.9687\n",
            "Epoch 5/25\n",
            "1313/1313 [==============================] - 3s 2ms/step - loss: 0.0587 - accuracy: 0.9824 - val_loss: 0.1080 - val_accuracy: 0.9676\n",
            "Epoch 6/25\n",
            "1313/1313 [==============================] - 3s 2ms/step - loss: 0.0462 - accuracy: 0.9858 - val_loss: 0.1038 - val_accuracy: 0.9689\n",
            "Epoch 7/25\n",
            "1313/1313 [==============================] - 3s 3ms/step - loss: 0.0361 - accuracy: 0.9895 - val_loss: 0.1044 - val_accuracy: 0.9699\n",
            "Epoch 8/25\n",
            "1313/1313 [==============================] - 3s 2ms/step - loss: 0.0310 - accuracy: 0.9911 - val_loss: 0.1040 - val_accuracy: 0.9702\n",
            "Epoch 9/25\n",
            "1313/1313 [==============================] - 4s 3ms/step - loss: 0.0233 - accuracy: 0.9931 - val_loss: 0.1013 - val_accuracy: 0.9718\n",
            "Epoch 10/25\n",
            "1313/1313 [==============================] - 4s 3ms/step - loss: 0.0178 - accuracy: 0.9950 - val_loss: 0.1018 - val_accuracy: 0.9736\n",
            "Epoch 11/25\n",
            "1313/1313 [==============================] - 3s 2ms/step - loss: 0.0161 - accuracy: 0.9952 - val_loss: 0.1082 - val_accuracy: 0.9724\n",
            "Epoch 12/25\n",
            "1313/1313 [==============================] - 3s 2ms/step - loss: 0.0120 - accuracy: 0.9969 - val_loss: 0.1109 - val_accuracy: 0.9730\n",
            "Epoch 13/25\n",
            "1313/1313 [==============================] - 3s 3ms/step - loss: 0.0122 - accuracy: 0.9964 - val_loss: 0.1147 - val_accuracy: 0.9723\n",
            "Epoch 14/25\n",
            "1313/1313 [==============================] - 3s 3ms/step - loss: 0.0100 - accuracy: 0.9972 - val_loss: 0.1225 - val_accuracy: 0.9706\n",
            "Epoch 15/25\n",
            "1313/1313 [==============================] - 3s 2ms/step - loss: 0.0072 - accuracy: 0.9979 - val_loss: 0.1258 - val_accuracy: 0.9718\n",
            "Epoch 16/25\n",
            "1313/1313 [==============================] - 3s 2ms/step - loss: 0.0062 - accuracy: 0.9984 - val_loss: 0.1343 - val_accuracy: 0.9717\n",
            "Epoch 17/25\n",
            "1313/1313 [==============================] - 3s 2ms/step - loss: 0.0077 - accuracy: 0.9975 - val_loss: 0.1084 - val_accuracy: 0.9749\n",
            "Epoch 18/25\n",
            "1313/1313 [==============================] - 3s 2ms/step - loss: 0.0053 - accuracy: 0.9986 - val_loss: 0.1175 - val_accuracy: 0.9742\n",
            "Epoch 19/25\n",
            "1313/1313 [==============================] - 3s 2ms/step - loss: 0.0051 - accuracy: 0.9984 - val_loss: 0.1230 - val_accuracy: 0.9737\n",
            "Epoch 20/25\n",
            "1313/1313 [==============================] - 3s 2ms/step - loss: 0.0057 - accuracy: 0.9982 - val_loss: 0.1257 - val_accuracy: 0.9739\n",
            "Epoch 21/25\n",
            "1313/1313 [==============================] - 3s 2ms/step - loss: 0.0041 - accuracy: 0.9988 - val_loss: 0.1383 - val_accuracy: 0.9733\n",
            "Epoch 22/25\n",
            "1313/1313 [==============================] - 3s 2ms/step - loss: 0.0057 - accuracy: 0.9982 - val_loss: 0.1499 - val_accuracy: 0.9696\n",
            "Epoch 23/25\n",
            "1313/1313 [==============================] - 3s 2ms/step - loss: 0.0014 - accuracy: 0.9998 - val_loss: 0.1395 - val_accuracy: 0.9744\n",
            "Epoch 24/25\n",
            "1313/1313 [==============================] - 3s 2ms/step - loss: 0.0067 - accuracy: 0.9981 - val_loss: 0.1502 - val_accuracy: 0.9717\n",
            "Epoch 25/25\n",
            "1313/1313 [==============================] - 3s 2ms/step - loss: 0.0017 - accuracy: 0.9998 - val_loss: 0.1300 - val_accuracy: 0.9752\n"
          ]
        },
        {
          "output_type": "execute_result",
          "data": {
            "text/plain": [
              "<keras.callbacks.History at 0x7fd80869ebd0>"
            ]
          },
          "metadata": {},
          "execution_count": 133
        }
      ]
    },
    {
      "cell_type": "code",
      "source": [
        "# Graphical plots of the model performance\n",
        "\n",
        "plt.imshow(testsetX[20])"
      ],
      "metadata": {
        "colab": {
          "base_uri": "https://localhost:8080/",
          "height": 283
        },
        "id": "VYyURNcHYJ2D",
        "outputId": "4c6af726-0630-473b-96ab-090332840149"
      },
      "execution_count": 145,
      "outputs": [
        {
          "output_type": "execute_result",
          "data": {
            "text/plain": [
              "<matplotlib.image.AxesImage at 0x7fd804f01a50>"
            ]
          },
          "metadata": {},
          "execution_count": 145
        },
        {
          "output_type": "display_data",
          "data": {
            "text/plain": [
              "<Figure size 432x288 with 1 Axes>"
            ],
            "image/png": "[encoded data removed]"
          },
          "metadata": {
            "needs_background": "light"
          }
        }
      ]
    },
    {
      "cell_type": "code",
      "source": [
        "testsetX[20]"
      ],
      "metadata": {
        "id": "1wPlat1TRv0q"
      },
      "execution_count": null,
      "outputs": []
    },
    {
      "cell_type": "code",
      "source": [
        "# prediction\n",
        "\n",
        "pred = cnn.predict([testsetX])"
      ],
      "metadata": {
        "id": "J14p5v9dRv3o"
      },
      "execution_count": 147,
      "outputs": []
    },
    {
      "cell_type": "code",
      "source": [
        "print(np.argmax(pred[20]))"
      ],
      "metadata": {
        "colab": {
          "base_uri": "https://localhost:8080/"
        },
        "id": "7PIXce9BcKS5",
        "outputId": "49f066bf-e25f-450e-8c39-0edcd4c50e2f"
      },
      "execution_count": 149,
      "outputs": [
        {
          "output_type": "stream",
          "name": "stdout",
          "text": [
            "9\n"
          ]
        }
      ]
    },
    {
      "cell_type": "code",
      "source": [
        "# Graphical plots of the model performance on the train and test set during individual folds\n",
        "\n",
        "def plot_test_img(i):\n",
        "  plt.subplot(int('23'+str(i+1)))\n",
        "  plt.imshow(testsetX[i])\n",
        "\n",
        "  print('Lable :', np.argmax(pred[i]))\n",
        "  plt.show()"
      ],
      "metadata": {
        "id": "KiqsCXryda8Y"
      },
      "execution_count": 160,
      "outputs": []
    },
    {
      "cell_type": "code",
      "source": [
        "for i in range(5):\n",
        "  plot_test_img(i)\n"
      ],
      "metadata": {
        "colab": {
          "base_uri": "https://localhost:8080/",
          "height": 768
        },
        "id": "cKw63IzUcU9I",
        "outputId": "749d3897-17cc-44e6-ab03-f866a0fac584"
      },
      "execution_count": 162,
      "outputs": [
        {
          "output_type": "stream",
          "name": "stdout",
          "text": [
            "Lable : 7\n"
          ]
        },
        {
          "output_type": "display_data",
          "data": {
            "text/plain": [
              "<Figure size 432x288 with 1 Axes>"
            ],
            "image/png": "[encoded data removed]"
          },
          "metadata": {
            "needs_background": "light"
          }
        },
        {
          "output_type": "stream",
          "name": "stdout",
          "text": [
            "Lable : 2\n"
          ]
        },
        {
          "output_type": "display_data",
          "data": {
            "text/plain": [
              "<Figure size 432x288 with 1 Axes>"
            ],
            "image/png": "[encoded data removed]"
          },
          "metadata": {
            "needs_background": "light"
          }
        },
        {
          "output_type": "stream",
          "name": "stdout",
          "text": [
            "Lable : 1\n"
          ]
        },
        {
          "output_type": "display_data",
          "data": {
            "text/plain": [
              "<Figure size 432x288 with 1 Axes>"
            ],
            "image/png": "[encoded data removed]"
          },
          "metadata": {
            "needs_background": "light"
          }
        },
        {
          "output_type": "stream",
          "name": "stdout",
          "text": [
            "Lable : 0\n"
          ]
        },
        {
          "output_type": "display_data",
          "data": {
            "text/plain": [
              "<Figure size 432x288 with 1 Axes>"
            ],
            "image/png": "[encoded data removed]"
          },
          "metadata": {
            "needs_background": "light"
          }
        },
        {
          "output_type": "stream",
          "name": "stdout",
          "text": [
            "Lable : 4\n"
          ]
        },
        {
          "output_type": "display_data",
          "data": {
            "text/plain": [
              "<Figure size 432x288 with 1 Axes>"
            ],
            "image/png": "[encoded data removed]"
          },
          "metadata": {
            "needs_background": "light"
          }
        }
      ]
    },
    {
      "cell_type": "code",
      "source": [],
      "metadata": {
        "id": "A1-stFRMcVCD"
      },
      "execution_count": null,
      "outputs": []
    },
    {
      "cell_type": "code",
      "source": [],
      "metadata": {
        "id": "f1ZrjFaccVFP"
      },
      "execution_count": null,
      "outputs": []
    }
  ]
}